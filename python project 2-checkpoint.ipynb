import pyttsx3
import datetime
import speech_recognition as sr
import wikipedia
import os
import webbrowser
import subprocess
import pyautogui
import pywhatkit as pk

# Initialize the text-to-speech engine
engine = pyttsx3.init('sapi5')
voices = engine.getProperty('voices')
engine.setProperty('voice', voices[0].id)

# Speak function for audio feedback
def speak(audio):
    engine.say(audio)
    engine.runAndWait()

# Function to greet the user
def wishme():
    hour = int(datetime.datetime.now().hour)
    if hour >= 0 and hour < 12:
        speak("Good Morning")
    elif hour >= 12 and hour < 18:
        speak("Good Afternoon")
    else:
        speak("Good Evening")
    
    speak("Please tell me how may I help you")

# Voice input function
def takeCommand():
    recognizer = sr.Recognizer()
    with sr.Microphone() as source:
        print("Listening....")
        recognizer.pause_threshold = 1
        audio = recognizer.listen(source)
        
    try:
        print("Recognizing...")
        query = recognizer.recognize_google(audio, language='en-in')
        print(f"User said: {query}\n")
    except Exception as e:
        print("Say that again please...")
        return "None"
    return query

# Open URLs with the user's preferred browser via voice input
def open_with_browser(url):
    speak("Please tell me your preferred browser. You can say Brave, Edge, or Chrome.")
    browser_choice = takeCommand().lower()

    try:
        if 'brave' in browser_choice:
            brave_path = "C:/Program Files/BraveSoftware/Brave-Browser/Application/brave.exe"
            webbrowser.register('brave', None, webbrowser.BackgroundBrowser(brave_path))
            webbrowser.get('brave').open(url)
        elif 'edge' in browser_choice:
            edge_path = "C:/Program Files (x86)/Microsoft/Edge/Application/msedge.exe"
            webbrowser.register('edge', None, webbrowser.BackgroundBrowser(edge_path))
            webbrowser.get('edge').open(url)
        elif 'chrome' in browser_choice:
            chrome_path = "C:/Program Files/Google/Chrome/Application/chrome.exe"
            webbrowser.register('chrome', None, webbrowser.BackgroundBrowser(chrome_path))
            webbrowser.get('chrome').open(url)
        else:
            speak("I could not understand your choice. Opening with the default browser.")
            webbrowser.open(url)
    except Exception as e:
        speak("Sorry, I couldn't open the browser. Please make sure the browser is installed.")
        print(e)

# Function to close applications
def close_application(app_name):
    try:
        subprocess.call(['taskkill', '/F', '/IM', f"{app_name}.exe"])
        speak(f"Closed {app_name}")
    except Exception as e:
        speak(f"Could not close {app_name}")
        print(e)

# Function to toggle play/pause
def toggle():
    pyautogui.hotkey('space')
    speak('Paused/Playing')
    
# Main program
if __name__ == "__main__":
    wishme()

    while True:
        query = takeCommand().lower()  # Converting user query into lower case

        # Logic for executing tasks based on query
        if 'wikipedia' in query:  # If 'wikipedia' is found in the query
            speak('Searching Wikipedia...')
            query = query.replace("wikipedia", "")
            results = wikipedia.summary(query, sentences=2)
            speak("According to Wikipedia")
            speak(results)

        elif 'open youtube' in query:
            speak("Opening YouTube")
            open_with_browser("https://www.youtube.com")

        elif 'open google' in query:
            speak("Opening Google")
            open_with_browser("https://www.google.com")

        elif 'open stackoverflow' in query:
            speak("Opening StackOverflow")
            open_with_browser("https://stackoverflow.com")

        elif 'play video' in query:  # Play a YouTube video via voice input
            speak("What video should I search for?")
            video = takeCommand()
            if video and video != "None":
                speak(f"Searching and playing {video} on YouTube.")
                pk.playonyt(video)

        elif 'open notepad' in query:  # Opening Notepad on Windows
            speak("Opening Notepad")
            os.startfile("notepad.exe")

        elif 'the time' in query:
            strTime = datetime.datetime.now().strftime("%H:%M:%S")    
            speak(f"Sir, the time is {strTime}")
            
        elif 'play music' in query:  # Play a YouTube song
            speak("Playing music on YouTube")
            open_with_browser("https://www.youtube.com/results?search_query=play+music")
            
        elif 'open problem set' in query:
            speak("Opening LeetCode")
            open_with_browser("https://leetcode.com/problemset/all/")
            
        elif 'open code' in query:
            speak("Opening Visual Studio Code")
            codePath = r"C:\Users\ANAND\AppData\Local\Programs\Microsoft VS Code\Code.exe"
            os.startfile(codePath)
            
        elif 'open zoom' in query:
            speak("Opening Zoom")
            Path = r'C:\Users\ANAND\AppData\Roaming\Zoom\bin\Zoom.exe'
            os.startfile(Path)
            
        elif 'close' in query:
            app_name = query.split('close')[-1].strip()
            close_application(app_name)
            
        elif 'pause' in query or 'play' in query:
            toggle()
            
        # Logic to stop the assistant
        elif 'thanks' in query or 'stop' in query:
            speak("Goodbye Sir!")
            break
